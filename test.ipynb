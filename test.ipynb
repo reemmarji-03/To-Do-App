{
 "cells": [
  {
   "cell_type": "code",
   "execution_count": 1,
   "metadata": {},
   "outputs": [
    {
     "name": "stdout",
     "output_type": "stream",
     "text": [
      "M\n",
      "E\n",
      "A\n",
      "L\n"
     ]
    }
   ],
   "source": [
    "for meal in 'meal':\n",
    "    print(meal.capitalize())"
   ]
  },
  {
   "cell_type": "code",
   "execution_count": 5,
   "metadata": {},
   "outputs": [
    {
     "name": "stdout",
     "output_type": "stream",
     "text": [
      "(0, 'tea')\n",
      "(1, 'shai')\n",
      "(2, 'te')\n"
     ]
    }
   ],
   "source": [
    "list=['tea','shai','te']\n",
    "listt = enumerate(list)\n",
    "for i in listt:\n",
    "    print(i)"
   ]
  },
  {
   "cell_type": "code",
   "execution_count": null,
   "metadata": {},
   "outputs": [
    {
     "name": "stdout",
     "output_type": "stream",
     "text": [
      "['1-whatever.txt', '2-something.txt', '3-name.txt']\n"
     ]
    }
   ],
   "source": [
    "filenames = ['1.whatever', '2.something', '3.name']\n",
    "\n",
    "filenames = [filename.replace('.','-')+'.txt' for filename in filenames]\n",
    "\n",
    "print(filenames) \n"
   ]
  },
  {
   "cell_type": "code",
   "execution_count": 19,
   "metadata": {},
   "outputs": [
    {
     "name": "stdout",
     "output_type": "stream",
     "text": [
      "2024-11-19 10:56:44.019544\n"
     ]
    }
   ],
   "source": [
    "from datetime import datetime\n",
    "print(datetime.now())"
   ]
  },
  {
   "cell_type": "code",
   "execution_count": 3,
   "metadata": {},
   "outputs": [
    {
     "name": "stdout",
     "output_type": "stream",
     "text": [
      "7\n"
     ]
    }
   ],
   "source": [
    "import random\n",
    "\n",
    "lower_bound = int(input(\"Enter the lower bound: \"))\n",
    "upper_bound = int(input(\"Enter the upper bound: \"))\n",
    "result = random.randrange(lower_bound, upper_bound)\n",
    "\n",
    "print(result)"
   ]
  },
  {
   "cell_type": "code",
   "execution_count": 6,
   "metadata": {},
   "outputs": [
    {
     "name": "stdout",
     "output_type": "stream",
     "text": [
      "Example 2: Tuesday, 11/19/24 November 2024 15:18:39 + 0000\n"
     ]
    }
   ],
   "source": [
    "from time import strftime, gmtime\n",
    "s = strftime(\"%A, %D %B %Y %H:%M:%S + 0000\", gmtime())\n",
    "print(\"Example 2:\", s)"
   ]
  }
 ],
 "metadata": {
  "kernelspec": {
   "display_name": "Python 3",
   "language": "python",
   "name": "python3"
  },
  "language_info": {
   "codemirror_mode": {
    "name": "ipython",
    "version": 3
   },
   "file_extension": ".py",
   "mimetype": "text/x-python",
   "name": "python",
   "nbconvert_exporter": "python",
   "pygments_lexer": "ipython3",
   "version": "3.12.2"
  }
 },
 "nbformat": 4,
 "nbformat_minor": 2
}
